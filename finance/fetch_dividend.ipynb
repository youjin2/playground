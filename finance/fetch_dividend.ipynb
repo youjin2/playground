{
 "cells": [
  {
   "cell_type": "code",
   "execution_count": 1,
   "id": "bf16cb5c-a17f-4ce1-b1c5-e375ca44b530",
   "metadata": {},
   "outputs": [],
   "source": [
    "import os\n",
    "\n",
    "import pandas as pd"
   ]
  },
  {
   "cell_type": "code",
   "execution_count": null,
   "id": "0b750c3f-f11b-4ad8-a38c-7e02fd074223",
   "metadata": {},
   "outputs": [],
   "source": []
  },
  {
   "cell_type": "markdown",
   "id": "35467040-b3cc-4076-adf1-8e4e69a1f096",
   "metadata": {},
   "source": [
    "## Configs"
   ]
  },
  {
   "cell_type": "code",
   "execution_count": 2,
   "id": "1776c3de-62a4-4a35-a8f0-ee672f6dffde",
   "metadata": {},
   "outputs": [],
   "source": [
    "base_dir = \"./data\"\n",
    "os.makedirs(base_dir, exist_ok=True)\n",
    "\n",
    "schd_path = os.path.join(base_dir, \"schd_dividend.csv\")"
   ]
  },
  {
   "cell_type": "code",
   "execution_count": null,
   "id": "66114efb-ca15-42f0-98aa-c3f51d85899d",
   "metadata": {},
   "outputs": [],
   "source": []
  },
  {
   "cell_type": "markdown",
   "id": "21e34ba6-7f77-4f99-9101-ca329b807b53",
   "metadata": {},
   "source": [
    "## Fetch SCHD Dividend History    \n",
    "- Data source: https://www.nasdaq.com/market-activity/etf/schd/dividend-history\n",
    "- TODO: use selenium (bs4 not work due to Shadow DOM)"
   ]
  },
  {
   "cell_type": "code",
   "execution_count": 3,
   "id": "70116a57-1b35-4ab6-8b4a-b0381676e43b",
   "metadata": {},
   "outputs": [],
   "source": [
    "schd_dividend_history = \"\"\"\n",
    "09/25/2024\tCash\t$0.7545\t02/19/2024\t09/25/2024\t09/30/2024\n",
    "06/26/2024\tCash\t$0.8241\t02/19/2024\t06/26/2024\t07/01/2024\n",
    "03/20/2024\tCash\t$0.611\t02/19/2024\t03/21/2024\t03/25/2024\n",
    "12/06/2023\tCash\t$0.7423\t03/10/2023\t12/07/2023\t12/11/2023\n",
    "06/21/2023\tCash\t$0.6647\t03/10/2023\t06/22/2023\t06/26/2023\n",
    "03/22/2023\tCash\t$0.5965\t03/10/2023\t03/23/2023\t03/27/2023\n",
    "12/07/2022\tCash\t$0.7034\t02/18/2022\t12/08/2022\t12/12/2022\n",
    "09/21/2022\tCash\t$0.6367\t02/18/2022\t09/22/2022\t09/26/2022\n",
    "06/22/2022\tCash\t$0.7038\t02/18/2022\t06/23/2022\t06/27/2022\n",
    "03/23/2022\tCash\t$0.5176\t02/18/2022\t03/24/2022\t03/28/2022\n",
    "12/08/2021\tCash\t$0.6198\t02/02/2021\t12/09/2021\t12/13/2021\n",
    "09/22/2021\tCash\t$0.587\t02/02/2021\t09/23/2021\t09/27/2021\n",
    "06/23/2021\tCash\t$0.5396\t02/02/2021\t06/24/2021\t06/28/2021\n",
    "03/24/2021\tCash\t$0.5026\t02/02/2021\t03/25/2021\t03/29/2021\n",
    "12/10/2020\tCash\t$0.6015\t01/23/2020\t12/11/2020\t12/15/2020\n",
    "09/23/2020\tCash\t$0.543\t01/23/2020\t09/24/2020\t09/28/2020\n",
    "06/24/2020\tCash\t$0.442\t01/23/2020\t06/25/2020\t06/29/2020\n",
    "03/25/2020\tCash\t$0.4419\t01/23/2020\t03/26/2020\t03/30/2020\n",
    "12/12/2019\tCash\t$0.4658\t01/29/2019\t12/13/2019\t12/17/2019\n",
    "09/25/2019\tCash\t$0.4855\t01/29/2019\t09/26/2019\t09/30/2019\n",
    "06/26/2019\tCash\t$0.4209\t01/29/2019\t06/27/2019\t07/01/2019\n",
    "03/20/2019\tCash\t$0.352\t01/29/2019\t03/21/2019\t03/25/2019\n",
    "12/12/2018\tCash\t$0.4054\t12/13/2018\t12/13/2018\t12/17/2018\n",
    "09/25/2018\tCash\t$0.3668\t01/31/2018\t09/26/2018\t09/28/2018\n",
    "06/26/2018\tCash\t$0.4056\t01/31/2018\t06/27/2018\t06/29/2018\n",
    "03/16/2018\tCash\t$0.2615\t03/15/2018\t03/19/2018\t03/22/2018\n",
    "12/18/2017\tCash\t$0.3448\t12/15/2017\t12/19/2017\t12/22/2017\n",
    "09/18/2017\tCash\t$0.3439\t09/15/2017\t09/19/2017\t09/22/2017\n",
    "06/19/2017\tCash\t$0.3312\t06/16/2017\t06/21/2017\t06/23/2017\n",
    "03/20/2017\tCash\t$0.3258\t03/17/2017\t03/22/2017\t03/24/2017\n",
    "12/19/2016\tCash\t$0.3987\t12/16/2016\t12/21/2016\t12/23/2016\n",
    "09/19/2016\tCash\t$0.2438\t09/16/2016\t09/21/2016\t09/23/2016\n",
    "06/20/2016\tCash\t$0.3174\t06/17/2016\t06/22/2016\t06/24/2016\n",
    "03/21/2016\tCash\t$0.2981\t03/18/2016\t03/23/2016\t03/28/2016\n",
    "12/21/2015\tCash\t$0.2715\t12/18/2015\t12/23/2015\t12/28/2015\n",
    "09/21/2015\tCash\t$0.2989\t09/18/2015\t09/23/2015\t09/25/2015\n",
    "06/22/2015\tCash\t$0.3063\t06/19/2015\t06/24/2015\t06/26/2015\n",
    "03/23/2015\tCash\t$0.2699\t03/20/2015\t03/25/2015\t03/27/2015\n",
    "12/22/2014\tCash\t$0.2754\t12/19/2014\t12/24/2014\t12/29/2014\n",
    "09/22/2014\tCash\t$0.2544\t09/19/2014\t09/24/2014\t09/26/2014\n",
    "06/23/2014\tCash\t$0.2693\t06/20/2014\t06/25/2014\t06/27/2014\n",
    "03/24/2014\tCash\t$0.2478\t03/21/2014\t03/26/2014\t03/28/2014\n",
    "12/23/2013\tCash\t$0.2489\t12/20/2013\t12/26/2013\t12/30/2013\n",
    "09/23/2013\tCash\t$0.2306\t09/20/2013\t09/25/2013\t09/27/2013\n",
    "06/24/2013\tCash\t$0.225\t06/21/2013\t06/26/2013\t06/28/2013\n",
    "03/18/2013\tCash\t$0.1993\t03/15/2013\t03/20/2013\t03/22/2013\n",
    "12/24/2012\tCash\t$0.2581\t12/21/2012\t12/27/2012\t12/31/2012\n",
    "09/17/2012\tCash\t$0.2078\t09/14/2012\t09/19/2012\t09/21/2012\n",
    "06/18/2012\tCash\t$0.2062\t06/15/2012\t06/20/2012\t06/22/2012\n",
    "03/19/2012\tCash\t$0.1379\t03/16/2012\t03/21/2012\t03/23/2012\n",
    "12/19/2011\tCash\t$0.1217\t12/16/2011\t12/21/2011\t12/23/2011\n",
    "\"\"\""
   ]
  },
  {
   "cell_type": "code",
   "execution_count": 4,
   "id": "6243e212-f6e9-4775-8b4b-9f1b14cdeae2",
   "metadata": {},
   "outputs": [],
   "source": [
    "lines = schd_dividend_history.split(\"\\n\")\n",
    "result = []\n",
    "for line in lines:\n",
    "    if line == \"\":\n",
    "        continue\n",
    "    result.append(line.split(\"\\t\"))"
   ]
  },
  {
   "cell_type": "code",
   "execution_count": 5,
   "id": "08e841fc-ce32-42d7-9bb9-ac99e038f268",
   "metadata": {},
   "outputs": [],
   "source": [
    "df = pd.DataFrame(result, columns=[\"ex_date\", \"type\", \"dividend\", \"declaration_date\", \"record_date\", \"payment_date\"])"
   ]
  },
  {
   "cell_type": "code",
   "execution_count": 6,
   "id": "a89797b0-1bb9-472a-8ce6-371a0fda6328",
   "metadata": {},
   "outputs": [
    {
     "data": {
      "text/html": [
       "<div>\n",
       "<style scoped>\n",
       "    .dataframe tbody tr th:only-of-type {\n",
       "        vertical-align: middle;\n",
       "    }\n",
       "\n",
       "    .dataframe tbody tr th {\n",
       "        vertical-align: top;\n",
       "    }\n",
       "\n",
       "    .dataframe thead th {\n",
       "        text-align: right;\n",
       "    }\n",
       "</style>\n",
       "<table border=\"1\" class=\"dataframe\">\n",
       "  <thead>\n",
       "    <tr style=\"text-align: right;\">\n",
       "      <th></th>\n",
       "      <th>ex_date</th>\n",
       "      <th>type</th>\n",
       "      <th>dividend</th>\n",
       "      <th>declaration_date</th>\n",
       "      <th>record_date</th>\n",
       "      <th>payment_date</th>\n",
       "    </tr>\n",
       "  </thead>\n",
       "  <tbody>\n",
       "    <tr>\n",
       "      <th>0</th>\n",
       "      <td>09/25/2024</td>\n",
       "      <td>Cash</td>\n",
       "      <td>$0.7545</td>\n",
       "      <td>02/19/2024</td>\n",
       "      <td>09/25/2024</td>\n",
       "      <td>09/30/2024</td>\n",
       "    </tr>\n",
       "    <tr>\n",
       "      <th>1</th>\n",
       "      <td>06/26/2024</td>\n",
       "      <td>Cash</td>\n",
       "      <td>$0.8241</td>\n",
       "      <td>02/19/2024</td>\n",
       "      <td>06/26/2024</td>\n",
       "      <td>07/01/2024</td>\n",
       "    </tr>\n",
       "    <tr>\n",
       "      <th>2</th>\n",
       "      <td>03/20/2024</td>\n",
       "      <td>Cash</td>\n",
       "      <td>$0.611</td>\n",
       "      <td>02/19/2024</td>\n",
       "      <td>03/21/2024</td>\n",
       "      <td>03/25/2024</td>\n",
       "    </tr>\n",
       "    <tr>\n",
       "      <th>3</th>\n",
       "      <td>12/06/2023</td>\n",
       "      <td>Cash</td>\n",
       "      <td>$0.7423</td>\n",
       "      <td>03/10/2023</td>\n",
       "      <td>12/07/2023</td>\n",
       "      <td>12/11/2023</td>\n",
       "    </tr>\n",
       "    <tr>\n",
       "      <th>4</th>\n",
       "      <td>06/21/2023</td>\n",
       "      <td>Cash</td>\n",
       "      <td>$0.6647</td>\n",
       "      <td>03/10/2023</td>\n",
       "      <td>06/22/2023</td>\n",
       "      <td>06/26/2023</td>\n",
       "    </tr>\n",
       "  </tbody>\n",
       "</table>\n",
       "</div>"
      ],
      "text/plain": [
       "      ex_date  type dividend declaration_date record_date payment_date\n",
       "0  09/25/2024  Cash  $0.7545       02/19/2024  09/25/2024   09/30/2024\n",
       "1  06/26/2024  Cash  $0.8241       02/19/2024  06/26/2024   07/01/2024\n",
       "2  03/20/2024  Cash   $0.611       02/19/2024  03/21/2024   03/25/2024\n",
       "3  12/06/2023  Cash  $0.7423       03/10/2023  12/07/2023   12/11/2023\n",
       "4  06/21/2023  Cash  $0.6647       03/10/2023  06/22/2023   06/26/2023"
      ]
     },
     "execution_count": 6,
     "metadata": {},
     "output_type": "execute_result"
    }
   ],
   "source": [
    "df.head()"
   ]
  },
  {
   "cell_type": "code",
   "execution_count": 7,
   "id": "73f16778-054a-4e2a-9565-379beef37f39",
   "metadata": {},
   "outputs": [
    {
     "data": {
      "text/html": [
       "<div>\n",
       "<style scoped>\n",
       "    .dataframe tbody tr th:only-of-type {\n",
       "        vertical-align: middle;\n",
       "    }\n",
       "\n",
       "    .dataframe tbody tr th {\n",
       "        vertical-align: top;\n",
       "    }\n",
       "\n",
       "    .dataframe thead th {\n",
       "        text-align: right;\n",
       "    }\n",
       "</style>\n",
       "<table border=\"1\" class=\"dataframe\">\n",
       "  <thead>\n",
       "    <tr style=\"text-align: right;\">\n",
       "      <th></th>\n",
       "      <th>ex_date</th>\n",
       "      <th>type</th>\n",
       "      <th>dividend</th>\n",
       "      <th>declaration_date</th>\n",
       "      <th>record_date</th>\n",
       "      <th>payment_date</th>\n",
       "    </tr>\n",
       "  </thead>\n",
       "  <tbody>\n",
       "    <tr>\n",
       "      <th>46</th>\n",
       "      <td>12/24/2012</td>\n",
       "      <td>Cash</td>\n",
       "      <td>$0.2581</td>\n",
       "      <td>12/21/2012</td>\n",
       "      <td>12/27/2012</td>\n",
       "      <td>12/31/2012</td>\n",
       "    </tr>\n",
       "    <tr>\n",
       "      <th>47</th>\n",
       "      <td>09/17/2012</td>\n",
       "      <td>Cash</td>\n",
       "      <td>$0.2078</td>\n",
       "      <td>09/14/2012</td>\n",
       "      <td>09/19/2012</td>\n",
       "      <td>09/21/2012</td>\n",
       "    </tr>\n",
       "    <tr>\n",
       "      <th>48</th>\n",
       "      <td>06/18/2012</td>\n",
       "      <td>Cash</td>\n",
       "      <td>$0.2062</td>\n",
       "      <td>06/15/2012</td>\n",
       "      <td>06/20/2012</td>\n",
       "      <td>06/22/2012</td>\n",
       "    </tr>\n",
       "    <tr>\n",
       "      <th>49</th>\n",
       "      <td>03/19/2012</td>\n",
       "      <td>Cash</td>\n",
       "      <td>$0.1379</td>\n",
       "      <td>03/16/2012</td>\n",
       "      <td>03/21/2012</td>\n",
       "      <td>03/23/2012</td>\n",
       "    </tr>\n",
       "    <tr>\n",
       "      <th>50</th>\n",
       "      <td>12/19/2011</td>\n",
       "      <td>Cash</td>\n",
       "      <td>$0.1217</td>\n",
       "      <td>12/16/2011</td>\n",
       "      <td>12/21/2011</td>\n",
       "      <td>12/23/2011</td>\n",
       "    </tr>\n",
       "  </tbody>\n",
       "</table>\n",
       "</div>"
      ],
      "text/plain": [
       "       ex_date  type dividend declaration_date record_date payment_date\n",
       "46  12/24/2012  Cash  $0.2581       12/21/2012  12/27/2012   12/31/2012\n",
       "47  09/17/2012  Cash  $0.2078       09/14/2012  09/19/2012   09/21/2012\n",
       "48  06/18/2012  Cash  $0.2062       06/15/2012  06/20/2012   06/22/2012\n",
       "49  03/19/2012  Cash  $0.1379       03/16/2012  03/21/2012   03/23/2012\n",
       "50  12/19/2011  Cash  $0.1217       12/16/2011  12/21/2011   12/23/2011"
      ]
     },
     "execution_count": 7,
     "metadata": {},
     "output_type": "execute_result"
    }
   ],
   "source": [
    "df.tail()"
   ]
  },
  {
   "cell_type": "code",
   "execution_count": null,
   "id": "7dd0b978-d6de-4052-bdc5-15b89a42d11e",
   "metadata": {},
   "outputs": [],
   "source": []
  },
  {
   "cell_type": "markdown",
   "id": "9341ae63-07e1-4c24-9af2-337460098063",
   "metadata": {},
   "source": [
    "## Preprocss columns"
   ]
  },
  {
   "cell_type": "code",
   "execution_count": 8,
   "id": "9e1243e0-2182-4242-a089-88e2d27a98be",
   "metadata": {},
   "outputs": [],
   "source": [
    "# process data columns\n",
    "for col in df.columns:    \n",
    "    if col.endswith(\"date\"):\n",
    "        df[col] = pd.to_datetime(df[col], format=\"%m/%d/%Y\")"
   ]
  },
  {
   "cell_type": "code",
   "execution_count": 9,
   "id": "e6039558-d7c9-4ee4-ad09-085f0635e078",
   "metadata": {},
   "outputs": [],
   "source": [
    "df[col] = pd.to_datetime(df[col], format=\"%m/%d/%Y\")"
   ]
  },
  {
   "cell_type": "code",
   "execution_count": 10,
   "id": "0b9295b4-2476-472a-9308-fcf46a6fd22c",
   "metadata": {},
   "outputs": [],
   "source": [
    "df[\"dividend\"] = pd.to_numeric(df[\"dividend\"].str.replace(\"$\", \"\"))"
   ]
  },
  {
   "cell_type": "code",
   "execution_count": 11,
   "id": "d58792d0-c645-4446-8472-5d9b0dbdef08",
   "metadata": {},
   "outputs": [
    {
     "data": {
      "text/html": [
       "<div>\n",
       "<style scoped>\n",
       "    .dataframe tbody tr th:only-of-type {\n",
       "        vertical-align: middle;\n",
       "    }\n",
       "\n",
       "    .dataframe tbody tr th {\n",
       "        vertical-align: top;\n",
       "    }\n",
       "\n",
       "    .dataframe thead th {\n",
       "        text-align: right;\n",
       "    }\n",
       "</style>\n",
       "<table border=\"1\" class=\"dataframe\">\n",
       "  <thead>\n",
       "    <tr style=\"text-align: right;\">\n",
       "      <th></th>\n",
       "      <th>ex_date</th>\n",
       "      <th>type</th>\n",
       "      <th>dividend</th>\n",
       "      <th>declaration_date</th>\n",
       "      <th>record_date</th>\n",
       "      <th>payment_date</th>\n",
       "    </tr>\n",
       "  </thead>\n",
       "  <tbody>\n",
       "    <tr>\n",
       "      <th>0</th>\n",
       "      <td>2024-09-25</td>\n",
       "      <td>Cash</td>\n",
       "      <td>0.7545</td>\n",
       "      <td>2024-02-19</td>\n",
       "      <td>2024-09-25</td>\n",
       "      <td>2024-09-30</td>\n",
       "    </tr>\n",
       "    <tr>\n",
       "      <th>1</th>\n",
       "      <td>2024-06-26</td>\n",
       "      <td>Cash</td>\n",
       "      <td>0.8241</td>\n",
       "      <td>2024-02-19</td>\n",
       "      <td>2024-06-26</td>\n",
       "      <td>2024-07-01</td>\n",
       "    </tr>\n",
       "    <tr>\n",
       "      <th>2</th>\n",
       "      <td>2024-03-20</td>\n",
       "      <td>Cash</td>\n",
       "      <td>0.6110</td>\n",
       "      <td>2024-02-19</td>\n",
       "      <td>2024-03-21</td>\n",
       "      <td>2024-03-25</td>\n",
       "    </tr>\n",
       "    <tr>\n",
       "      <th>3</th>\n",
       "      <td>2023-12-06</td>\n",
       "      <td>Cash</td>\n",
       "      <td>0.7423</td>\n",
       "      <td>2023-03-10</td>\n",
       "      <td>2023-12-07</td>\n",
       "      <td>2023-12-11</td>\n",
       "    </tr>\n",
       "    <tr>\n",
       "      <th>4</th>\n",
       "      <td>2023-06-21</td>\n",
       "      <td>Cash</td>\n",
       "      <td>0.6647</td>\n",
       "      <td>2023-03-10</td>\n",
       "      <td>2023-06-22</td>\n",
       "      <td>2023-06-26</td>\n",
       "    </tr>\n",
       "  </tbody>\n",
       "</table>\n",
       "</div>"
      ],
      "text/plain": [
       "     ex_date  type  dividend declaration_date record_date payment_date\n",
       "0 2024-09-25  Cash    0.7545       2024-02-19  2024-09-25   2024-09-30\n",
       "1 2024-06-26  Cash    0.8241       2024-02-19  2024-06-26   2024-07-01\n",
       "2 2024-03-20  Cash    0.6110       2024-02-19  2024-03-21   2024-03-25\n",
       "3 2023-12-06  Cash    0.7423       2023-03-10  2023-12-07   2023-12-11\n",
       "4 2023-06-21  Cash    0.6647       2023-03-10  2023-06-22   2023-06-26"
      ]
     },
     "execution_count": 11,
     "metadata": {},
     "output_type": "execute_result"
    }
   ],
   "source": [
    "df.head()"
   ]
  },
  {
   "cell_type": "code",
   "execution_count": null,
   "id": "fc846327-3853-484f-8c03-86919d8fdc96",
   "metadata": {},
   "outputs": [],
   "source": []
  },
  {
   "cell_type": "markdown",
   "id": "d6a6fcf0-f3d9-4978-820b-d8b462b3dac3",
   "metadata": {},
   "source": [
    "## Save results"
   ]
  },
  {
   "cell_type": "code",
   "execution_count": 12,
   "id": "63c5caeb-bb78-4d6e-b3c8-305cc0908355",
   "metadata": {},
   "outputs": [],
   "source": [
    "df.to_csv(schd_path, index=False)"
   ]
  },
  {
   "cell_type": "code",
   "execution_count": null,
   "id": "8a6e1e95-8602-40be-8200-7de6ea9e1721",
   "metadata": {},
   "outputs": [],
   "source": []
  },
  {
   "cell_type": "code",
   "execution_count": null,
   "id": "4b5a0232-ba63-455a-947e-2202422a59fd",
   "metadata": {},
   "outputs": [],
   "source": []
  },
  {
   "cell_type": "code",
   "execution_count": null,
   "id": "fcef23d6-5121-42b8-b435-8b362dab2a90",
   "metadata": {},
   "outputs": [],
   "source": []
  },
  {
   "cell_type": "code",
   "execution_count": null,
   "id": "957c1093-01f1-4c2c-870f-bed21ce51993",
   "metadata": {},
   "outputs": [],
   "source": []
  }
 ],
 "metadata": {
  "kernelspec": {
   "display_name": "Python 3 (ipykernel)",
   "language": "python",
   "name": "python3"
  },
  "language_info": {
   "codemirror_mode": {
    "name": "ipython",
    "version": 3
   },
   "file_extension": ".py",
   "mimetype": "text/x-python",
   "name": "python",
   "nbconvert_exporter": "python",
   "pygments_lexer": "ipython3",
   "version": "3.9.20"
  }
 },
 "nbformat": 4,
 "nbformat_minor": 5
}
